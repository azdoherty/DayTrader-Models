{
 "cells": [
  {
   "cell_type": "markdown",
   "metadata": {},
   "source": [
    "<h1><center>Text Classification Example Using News Categories</center></h1>\n",
    "<h2><center> Adam Doherty </center></h2>\n",
    "\n",
    "\n",
    "This is an excercise to gain familiarity in text processing and classification. The goal is to later apply the tools developed here to more meaningful financial data.\n",
    "\n",
    "See [Kaggle for details](https://www.kaggle.com/rmisra/news-category-dataset/version/2#)"
   ]
  },
  {
   "cell_type": "code",
   "execution_count": 30,
   "metadata": {
    "scrolled": true
   },
   "outputs": [],
   "source": [
    "#imports\n",
    "\n",
    "# basic and math \n",
    "import os\n",
    "import pandas as pd\n",
    "import numpy as np\n",
    "\n",
    "# plotting\n",
    "from matplotlib import pyplot as plt\n",
    "import seaborn as sns\n",
    "\n",
    "# sklearn\n",
    "from sklearn.feature_extraction.text import CountVectorizer\n",
    "from sklearn.pipeline import Pipeline\n",
    "FULLWIDTHFIG = 18\n",
    "%matplotlib inline"
   ]
  },
  {
   "cell_type": "code",
   "execution_count": 2,
   "metadata": {},
   "outputs": [
    {
     "data": {
      "text/html": [
       "<div>\n",
       "<style scoped>\n",
       "    .dataframe tbody tr th:only-of-type {\n",
       "        vertical-align: middle;\n",
       "    }\n",
       "\n",
       "    .dataframe tbody tr th {\n",
       "        vertical-align: top;\n",
       "    }\n",
       "\n",
       "    .dataframe thead th {\n",
       "        text-align: right;\n",
       "    }\n",
       "</style>\n",
       "<table border=\"1\" class=\"dataframe\">\n",
       "  <thead>\n",
       "    <tr style=\"text-align: right;\">\n",
       "      <th></th>\n",
       "      <th>authors</th>\n",
       "      <th>category</th>\n",
       "      <th>date</th>\n",
       "      <th>headline</th>\n",
       "      <th>link</th>\n",
       "      <th>short_description</th>\n",
       "    </tr>\n",
       "  </thead>\n",
       "  <tbody>\n",
       "    <tr>\n",
       "      <th>0</th>\n",
       "      <td>Melissa Jeltsen</td>\n",
       "      <td>CRIME</td>\n",
       "      <td>2018-05-26</td>\n",
       "      <td>There Were 2 Mass Shootings In Texas Last Week...</td>\n",
       "      <td>https://www.huffingtonpost.com/entry/texas-ama...</td>\n",
       "      <td>She left her husband. He killed their children...</td>\n",
       "    </tr>\n",
       "    <tr>\n",
       "      <th>1</th>\n",
       "      <td>Andy McDonald</td>\n",
       "      <td>ENTERTAINMENT</td>\n",
       "      <td>2018-05-26</td>\n",
       "      <td>Will Smith Joins Diplo And Nicky Jam For The 2...</td>\n",
       "      <td>https://www.huffingtonpost.com/entry/will-smit...</td>\n",
       "      <td>Of course it has a song.</td>\n",
       "    </tr>\n",
       "    <tr>\n",
       "      <th>2</th>\n",
       "      <td>Ron Dicker</td>\n",
       "      <td>ENTERTAINMENT</td>\n",
       "      <td>2018-05-26</td>\n",
       "      <td>Hugh Grant Marries For The First Time At Age 57</td>\n",
       "      <td>https://www.huffingtonpost.com/entry/hugh-gran...</td>\n",
       "      <td>The actor and his longtime girlfriend Anna Ebe...</td>\n",
       "    </tr>\n",
       "    <tr>\n",
       "      <th>3</th>\n",
       "      <td>Ron Dicker</td>\n",
       "      <td>ENTERTAINMENT</td>\n",
       "      <td>2018-05-26</td>\n",
       "      <td>Jim Carrey Blasts 'Castrato' Adam Schiff And D...</td>\n",
       "      <td>https://www.huffingtonpost.com/entry/jim-carre...</td>\n",
       "      <td>The actor gives Dems an ass-kicking for not fi...</td>\n",
       "    </tr>\n",
       "    <tr>\n",
       "      <th>4</th>\n",
       "      <td>Ron Dicker</td>\n",
       "      <td>ENTERTAINMENT</td>\n",
       "      <td>2018-05-26</td>\n",
       "      <td>Julianna Margulies Uses Donald Trump Poop Bags...</td>\n",
       "      <td>https://www.huffingtonpost.com/entry/julianna-...</td>\n",
       "      <td>The \"Dietland\" actress said using the bags is ...</td>\n",
       "    </tr>\n",
       "  </tbody>\n",
       "</table>\n",
       "</div>"
      ],
      "text/plain": [
       "           authors       category       date  \\\n",
       "0  Melissa Jeltsen          CRIME 2018-05-26   \n",
       "1    Andy McDonald  ENTERTAINMENT 2018-05-26   \n",
       "2       Ron Dicker  ENTERTAINMENT 2018-05-26   \n",
       "3       Ron Dicker  ENTERTAINMENT 2018-05-26   \n",
       "4       Ron Dicker  ENTERTAINMENT 2018-05-26   \n",
       "\n",
       "                                            headline  \\\n",
       "0  There Were 2 Mass Shootings In Texas Last Week...   \n",
       "1  Will Smith Joins Diplo And Nicky Jam For The 2...   \n",
       "2    Hugh Grant Marries For The First Time At Age 57   \n",
       "3  Jim Carrey Blasts 'Castrato' Adam Schiff And D...   \n",
       "4  Julianna Margulies Uses Donald Trump Poop Bags...   \n",
       "\n",
       "                                                link  \\\n",
       "0  https://www.huffingtonpost.com/entry/texas-ama...   \n",
       "1  https://www.huffingtonpost.com/entry/will-smit...   \n",
       "2  https://www.huffingtonpost.com/entry/hugh-gran...   \n",
       "3  https://www.huffingtonpost.com/entry/jim-carre...   \n",
       "4  https://www.huffingtonpost.com/entry/julianna-...   \n",
       "\n",
       "                                   short_description  \n",
       "0  She left her husband. He killed their children...  \n",
       "1                           Of course it has a song.  \n",
       "2  The actor and his longtime girlfriend Anna Ebe...  \n",
       "3  The actor gives Dems an ass-kicking for not fi...  \n",
       "4  The \"Dietland\" actress said using the bags is ...  "
      ]
     },
     "execution_count": 2,
     "metadata": {},
     "output_type": "execute_result"
    }
   ],
   "source": [
    "#load the data\n",
    "\n",
    "cwd = os.getcwd()\n",
    "data_path = os.path.join(os.path.split(cwd)[0], r'data\\news-category-dataset', 'News_Category_Dataset_v2.json')\n",
    "news_df = pd.read_json(data_path, lines=True)\n",
    "news_df.head()\n"
   ]
  },
  {
   "cell_type": "code",
   "execution_count": 7,
   "metadata": {},
   "outputs": [
    {
     "name": "stdout",
     "output_type": "stream",
     "text": [
      "authors                      object\n",
      "category                     object\n",
      "date                 datetime64[ns]\n",
      "headline                     object\n",
      "link                         object\n",
      "short_description            object\n",
      "authors_cat                category\n",
      "category_cat               category\n",
      "dtype: object\n"
     ]
    },
    {
     "data": {
      "text/plain": [
       "authors                      object\n",
       "category                     object\n",
       "date                 datetime64[ns]\n",
       "headline                     object\n",
       "link                         object\n",
       "short_description            object\n",
       "authors_cat                category\n",
       "category_cat               category\n",
       "dtype: object"
      ]
     },
     "execution_count": 7,
     "metadata": {},
     "output_type": "execute_result"
    }
   ],
   "source": [
    "# Verify and convert variable types\n",
    "print(news_df.dtypes)\n",
    "news_df['authors_cat']= news_df['authors'].astype('category')\n",
    "news_df['category_cat']= news_df['category'].astype('category')\n",
    "news_df.dtypes"
   ]
  },
  {
   "cell_type": "code",
   "execution_count": 32,
   "metadata": {},
   "outputs": [
    {
     "data": {
      "text/plain": [
       "Text(0.5, 1.0, 'Percentage of each topic category')"
      ]
     },
     "execution_count": 32,
     "metadata": {},
     "output_type": "execute_result"
    },
    {
     "data": {
      "image/png": "[encoded data removed]",
      "text/plain": [
       "<Figure size 1296x360 with 1 Axes>"
      ]
     },
     "metadata": {
      "needs_background": "light"
     },
     "output_type": "display_data"
    }
   ],
   "source": [
    "# distribution of categories to map to\n",
    "counts = news_df['category_cat'].value_counts()\n",
    "percents = ((counts/(np.sum(counts.values)))*100).plot(kind='bar', figsize=(FULLWIDTHFIG,5))\n",
    "plt.xlabel(\"Category\")\n",
    "plt.ylabel(\"Percentage\")\n",
    "plt.title(\"Percentage of each topic category\")"
   ]
  },
  {
   "cell_type": "code",
   "execution_count": null,
   "metadata": {},
   "outputs": [],
   "source": [
    "# first pass, use basic count vectorizer\n",
    "\n",
    "count_vec = CountVectorizer()\n",
    "clf = \n",
    "pipe =  \n",
    "\n",
    "\n",
    "class Tester:\n",
    "    def __init__(self, model):\n",
    "        self.model = model\n",
    "        self.train_results = None\n",
    "        self.test_results = None\n",
    "        self.percentages = None\n",
    "        \n",
    "    def test_word_model(self, model, trials=10, percents=20):\n",
    "        '''\n",
    "        test a model over various splits of training data based on percents, repeat multiple times over each split to get \n",
    "        average results, the model should be a pipeline that takes in text and spits out a prediction, it needs to generate a \n",
    "        vocabulary within itself\n",
    "        '''\n",
    "        self.train_results  = np.zeros((trials, percents))\n",
    "        self.test_results = np.zeros((trials, percents))\n",
    "        self.percentages = np.linspace(0, 1, percents + 1)\n",
    "        for t in range(trials):\n",
    "            for p in range(1, self.percentages - 1): # dont use 0 or 100%\n",
    "                X_train, X_test, y_train, y_test = train_test_split(news_df['short_description'],\n",
    "                                                                    news_df['category'],\n",
    "                                                                    test_size=1 - self.percentages[p],\n",
    "                                                                    random_state=t)\n",
    "                # generate vocabulary only from the training set\n",
    "                model.fit(X_train, y_train)\n",
    "                self.train_results [t, p] = model.score(X_train, y_train)\n",
    "                self.test_results [t, p] = model.score(X_test, y_test)\n",
    "\n",
    "\n",
    "    def plot_results(self):\n",
    "        average_test = np.mean(self.test_results, axis=0)\n",
    "        average_train = np.mean(self.train_results, axis=0)\n",
    "        plt.figure()\n",
    "        for t in range(self.train_results.shape[0]):\n",
    "            plt.plot(self.percentages[1:-1], self.train_results[1:-1], 'b.')\n",
    "            plt.plot(self.percentages[1:-1], self.test_results[1:-1], 'r.')\n",
    "            \n",
    "        plt.plt(self.percentages[1:-1], avergate_test[1:-1], 'r-')\n",
    "        plt.plt(self.percentages[1:-1], avergate_test[1:-1], 'b-')\n",
    "        plt.xlabel('% data used for training')\n",
    "        plt.ylabel('accuracy')\n",
    "        plt.grix(True)\n",
    "        plt.show()\n",
    "            \n",
    "            \n",
    "            \n",
    "\n",
    "        \n",
    "\n"
   ]
  }
 ],
 "metadata": {
  "kernelspec": {
   "display_name": "Python 3",
   "language": "python",
   "name": "python3"
  },
  "language_info": {
   "codemirror_mode": {
    "name": "ipython",
    "version": 3
   },
   "file_extension": ".py",
   "mimetype": "text/x-python",
   "name": "python",
   "nbconvert_exporter": "python",
   "pygments_lexer": "ipython3",
   "version": "3.7.3"
  }
 },
 "nbformat": 4,
 "nbformat_minor": 2
}
